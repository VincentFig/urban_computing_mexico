{
 "cells": [
  {
   "cell_type": "markdown",
   "metadata": {},
   "source": [
    "# Trip Extraction\n",
    "This code presents how to go from the raw survey data to a clean dataset only including the useful data needed to perform the extended radiation model."
   ]
  },
  {
   "cell_type": "code",
   "execution_count": 1,
   "metadata": {},
   "outputs": [],
   "source": [
    "import numpy as np\n",
    "import pandas as pd\n",
    "import matplotlib.pyplot as plt\n",
    "%matplotlib inline"
   ]
  },
  {
   "cell_type": "markdown",
   "metadata": {},
   "source": [
    "## Trip Data"
   ]
  },
  {
   "cell_type": "code",
   "execution_count": 2,
   "metadata": {},
   "outputs": [],
   "source": [
    "viaje = pd.read_csv('../data/eod_2017_csv/tviaje_eod2017/conjunto_de_datos/tviaje.csv')\n",
    "viaje = viaje[['id_soc', 'dto_origen', 'dto_dest', 'p5_9_1', 'p5_9_2', 'p5_10_1', 'p5_10_2', 'p5_13', 'factor']]\n",
    "viaje = viaje.rename(columns={'dto_origen':'origin', 'dto_dest':'destination', 'p5_9_1':'departure_h', 'p5_9_2':'departure_min', 'p5_10_1':'arrival_h', 'p5_10_2':'arrival_min', 'p5_13':'purpose'})"
   ]
  },
  {
   "cell_type": "code",
   "execution_count": 3,
   "metadata": {},
   "outputs": [
    {
     "data": {
      "text/html": [
       "<div>\n",
       "<style scoped>\n",
       "    .dataframe tbody tr th:only-of-type {\n",
       "        vertical-align: middle;\n",
       "    }\n",
       "\n",
       "    .dataframe tbody tr th {\n",
       "        vertical-align: top;\n",
       "    }\n",
       "\n",
       "    .dataframe thead th {\n",
       "        text-align: right;\n",
       "    }\n",
       "</style>\n",
       "<table border=\"1\" class=\"dataframe\">\n",
       "  <thead>\n",
       "    <tr style=\"text-align: right;\">\n",
       "      <th></th>\n",
       "      <th>id_soc</th>\n",
       "      <th>origin</th>\n",
       "      <th>destination</th>\n",
       "      <th>departure_h</th>\n",
       "      <th>departure_min</th>\n",
       "      <th>arrival_h</th>\n",
       "      <th>arrival_min</th>\n",
       "      <th>purpose</th>\n",
       "      <th>factor</th>\n",
       "    </tr>\n",
       "  </thead>\n",
       "  <tbody>\n",
       "    <tr>\n",
       "      <th>0</th>\n",
       "      <td>1268</td>\n",
       "      <td>1</td>\n",
       "      <td>15</td>\n",
       "      <td>8</td>\n",
       "      <td>0</td>\n",
       "      <td>9</td>\n",
       "      <td>0</td>\n",
       "      <td>2</td>\n",
       "      <td>244</td>\n",
       "    </tr>\n",
       "    <tr>\n",
       "      <th>1</th>\n",
       "      <td>1268</td>\n",
       "      <td>15</td>\n",
       "      <td>1</td>\n",
       "      <td>14</td>\n",
       "      <td>0</td>\n",
       "      <td>15</td>\n",
       "      <td>30</td>\n",
       "      <td>1</td>\n",
       "      <td>244</td>\n",
       "    </tr>\n",
       "    <tr>\n",
       "      <th>2</th>\n",
       "      <td>1268</td>\n",
       "      <td>1</td>\n",
       "      <td>1</td>\n",
       "      <td>17</td>\n",
       "      <td>0</td>\n",
       "      <td>17</td>\n",
       "      <td>5</td>\n",
       "      <td>5</td>\n",
       "      <td>244</td>\n",
       "    </tr>\n",
       "    <tr>\n",
       "      <th>3</th>\n",
       "      <td>1268</td>\n",
       "      <td>1</td>\n",
       "      <td>1</td>\n",
       "      <td>23</td>\n",
       "      <td>0</td>\n",
       "      <td>23</td>\n",
       "      <td>5</td>\n",
       "      <td>1</td>\n",
       "      <td>244</td>\n",
       "    </tr>\n",
       "    <tr>\n",
       "      <th>4</th>\n",
       "      <td>1269</td>\n",
       "      <td>1</td>\n",
       "      <td>15</td>\n",
       "      <td>8</td>\n",
       "      <td>0</td>\n",
       "      <td>9</td>\n",
       "      <td>0</td>\n",
       "      <td>2</td>\n",
       "      <td>244</td>\n",
       "    </tr>\n",
       "  </tbody>\n",
       "</table>\n",
       "</div>"
      ],
      "text/plain": [
       "   id_soc  origin  destination  departure_h  departure_min  arrival_h  \\\n",
       "0    1268       1           15            8              0          9   \n",
       "1    1268      15            1           14              0         15   \n",
       "2    1268       1            1           17              0         17   \n",
       "3    1268       1            1           23              0         23   \n",
       "4    1269       1           15            8              0          9   \n",
       "\n",
       "   arrival_min  purpose  factor  \n",
       "0            0        2     244  \n",
       "1           30        1     244  \n",
       "2            5        5     244  \n",
       "3            5        1     244  \n",
       "4            0        2     244  "
      ]
     },
     "execution_count": 3,
     "metadata": {},
     "output_type": "execute_result"
    }
   ],
   "source": [
    "# Remove all the trips going out of the zone\n",
    "# because we cannot assign any centroid to those locations\n",
    "viaje = viaje[~((viaje['origin'].isin([888,999])) | (viaje['destination'].isin([888,999])))]\n",
    "\n",
    "# Rename disctrict with numbers from 0 to 193\n",
    "keys = np.sort(viaje.origin.unique())\n",
    "values = np.arange(len(viaje.origin.unique()))\n",
    "dictionary = dict(zip(keys, values))\n",
    "viaje['origin'] = viaje['origin'].map(dictionary)\n",
    "viaje['destination'] = viaje['destination'].map(dictionary)\n",
    "\n",
    "viaje.head()"
   ]
  },
  {
   "cell_type": "code",
   "execution_count": 4,
   "metadata": {},
   "outputs": [
    {
     "data": {
      "text/html": [
       "<div>\n",
       "<style scoped>\n",
       "    .dataframe tbody tr th:only-of-type {\n",
       "        vertical-align: middle;\n",
       "    }\n",
       "\n",
       "    .dataframe tbody tr th {\n",
       "        vertical-align: top;\n",
       "    }\n",
       "\n",
       "    .dataframe thead th {\n",
       "        text-align: right;\n",
       "    }\n",
       "</style>\n",
       "<table border=\"1\" class=\"dataframe\">\n",
       "  <thead>\n",
       "    <tr style=\"text-align: right;\">\n",
       "      <th></th>\n",
       "      <th>origin</th>\n",
       "      <th>destination</th>\n",
       "      <th>count</th>\n",
       "    </tr>\n",
       "  </thead>\n",
       "  <tbody>\n",
       "    <tr>\n",
       "      <th>0</th>\n",
       "      <td>0</td>\n",
       "      <td>0</td>\n",
       "      <td>1339</td>\n",
       "    </tr>\n",
       "    <tr>\n",
       "      <th>1</th>\n",
       "      <td>0</td>\n",
       "      <td>1</td>\n",
       "      <td>156</td>\n",
       "    </tr>\n",
       "    <tr>\n",
       "      <th>2</th>\n",
       "      <td>0</td>\n",
       "      <td>2</td>\n",
       "      <td>204</td>\n",
       "    </tr>\n",
       "    <tr>\n",
       "      <th>3</th>\n",
       "      <td>0</td>\n",
       "      <td>3</td>\n",
       "      <td>185</td>\n",
       "    </tr>\n",
       "    <tr>\n",
       "      <th>4</th>\n",
       "      <td>0</td>\n",
       "      <td>4</td>\n",
       "      <td>161</td>\n",
       "    </tr>\n",
       "  </tbody>\n",
       "</table>\n",
       "</div>"
      ],
      "text/plain": [
       "   origin  destination  count\n",
       "0       0            0   1339\n",
       "1       0            1    156\n",
       "2       0            2    204\n",
       "3       0            3    185\n",
       "4       0            4    161"
      ]
     },
     "execution_count": 4,
     "metadata": {},
     "output_type": "execute_result"
    }
   ],
   "source": [
    "trips_between_districts = viaje.groupby(['origin', 'destination'])['id_soc'].count().rename('count')\n",
    "trips_between_districts = trips_between_districts.reset_index()\n",
    "trips_between_districts.head()"
   ]
  },
  {
   "cell_type": "code",
   "execution_count": 5,
   "metadata": {},
   "outputs": [],
   "source": [
    "inter_districts_trips = trips_between_districts[~(trips_between_districts['origin'] == trips_between_districts['destination'])]\n",
    "intra_districts_trips = trips_between_districts[(trips_between_districts['origin'] == trips_between_districts['destination'])]"
   ]
  },
  {
   "cell_type": "code",
   "execution_count": 6,
   "metadata": {},
   "outputs": [
    {
     "name": "stdout",
     "output_type": "stream",
     "text": [
      "Total number of trips recorded 485009\n",
      "of which 286155 are trips between districts (inter districts trips) \n",
      "and 198854 are local trips (intra district trips)\n"
     ]
    }
   ],
   "source": [
    "print('Total number of trips recorded', len(viaje))\n",
    "print('of which', inter_districts_trips['count'].sum(), 'are trips between districts (inter districts trips) \\nand', intra_districts_trips['count'].sum(),'are local trips (intra district trips)')"
   ]
  },
  {
   "cell_type": "code",
   "execution_count": 7,
   "metadata": {},
   "outputs": [
    {
     "data": {
      "text/html": [
       "<div>\n",
       "<style scoped>\n",
       "    .dataframe tbody tr th:only-of-type {\n",
       "        vertical-align: middle;\n",
       "    }\n",
       "\n",
       "    .dataframe tbody tr th {\n",
       "        vertical-align: top;\n",
       "    }\n",
       "\n",
       "    .dataframe thead th {\n",
       "        text-align: right;\n",
       "    }\n",
       "</style>\n",
       "<table border=\"1\" class=\"dataframe\">\n",
       "  <thead>\n",
       "    <tr style=\"text-align: right;\">\n",
       "      <th></th>\n",
       "      <th>origin</th>\n",
       "      <th>destination</th>\n",
       "      <th>count</th>\n",
       "      <th>distance</th>\n",
       "    </tr>\n",
       "  </thead>\n",
       "  <tbody>\n",
       "    <tr>\n",
       "      <th>0</th>\n",
       "      <td>0</td>\n",
       "      <td>0</td>\n",
       "      <td>1339</td>\n",
       "      <td>0.000000</td>\n",
       "    </tr>\n",
       "    <tr>\n",
       "      <th>1</th>\n",
       "      <td>0</td>\n",
       "      <td>1</td>\n",
       "      <td>156</td>\n",
       "      <td>2.431160</td>\n",
       "    </tr>\n",
       "    <tr>\n",
       "      <th>2</th>\n",
       "      <td>0</td>\n",
       "      <td>2</td>\n",
       "      <td>204</td>\n",
       "      <td>2.143412</td>\n",
       "    </tr>\n",
       "    <tr>\n",
       "      <th>3</th>\n",
       "      <td>0</td>\n",
       "      <td>3</td>\n",
       "      <td>185</td>\n",
       "      <td>2.238830</td>\n",
       "    </tr>\n",
       "    <tr>\n",
       "      <th>4</th>\n",
       "      <td>0</td>\n",
       "      <td>4</td>\n",
       "      <td>161</td>\n",
       "      <td>3.892406</td>\n",
       "    </tr>\n",
       "  </tbody>\n",
       "</table>\n",
       "</div>"
      ],
      "text/plain": [
       "   origin  destination  count  distance\n",
       "0       0            0   1339  0.000000\n",
       "1       0            1    156  2.431160\n",
       "2       0            2    204  2.143412\n",
       "3       0            3    185  2.238830\n",
       "4       0            4    161  3.892406"
      ]
     },
     "execution_count": 7,
     "metadata": {},
     "output_type": "execute_result"
    }
   ],
   "source": [
    "# Create the matrix 'links': origin / destination / number of trips / distance\n",
    "\n",
    "def FindDistance(row):\n",
    "    origin = row[0].astype(int)\n",
    "    destination = row[1].astype(int)\n",
    "    distance = dist_cell[origin, destination]\n",
    "    return(distance)\n",
    "\n",
    "dist_cell = np.loadtxt('../data/dist_cell.txt')\n",
    "\n",
    "trips_between_districts['distance'] = trips_between_districts.apply(FindDistance, axis=1)\n",
    "trips_between_districts.head()"
   ]
  },
  {
   "cell_type": "code",
   "execution_count": 8,
   "metadata": {},
   "outputs": [],
   "source": [
    "links = trips_between_districts.values\n",
    "np.savetxt('../data/links.txt', links)"
   ]
  },
  {
   "cell_type": "markdown",
   "metadata": {},
   "source": [
    "### Trip Attraction\n",
    "The following cell gives the trip attraction of each of the 194 districts of the MZVM"
   ]
  },
  {
   "cell_type": "code",
   "execution_count": 9,
   "metadata": {
    "scrolled": false
   },
   "outputs": [
    {
     "data": {
      "text/plain": [
       "destination\n",
       "0    8336\n",
       "1    4224\n",
       "2    2018\n",
       "3    2555\n",
       "4    1872\n",
       "Name: count, dtype: int64"
      ]
     },
     "execution_count": 9,
     "metadata": {},
     "output_type": "execute_result"
    }
   ],
   "source": [
    "trip_attraction = inter_districts_trips.groupby('destination').sum()['count']\n",
    "trip_attraction.head()"
   ]
  },
  {
   "cell_type": "code",
   "execution_count": 10,
   "metadata": {},
   "outputs": [],
   "source": [
    "# CHECK\n",
    "assert(trip_attraction.sum() < len(viaje))    # no more than the total number of trips\n",
    "assert(len(trip_attraction) == 194)           # number of districts"
   ]
  },
  {
   "cell_type": "code",
   "execution_count": 11,
   "metadata": {},
   "outputs": [],
   "source": [
    "np.savetxt('../data/trip_attraction.txt', trip_attraction, fmt='%.2f')"
   ]
  },
  {
   "cell_type": "markdown",
   "metadata": {},
   "source": [
    "### Trip Production\n",
    "The following cell gives the trip production of each of the 194 districts of the MZVM"
   ]
  },
  {
   "cell_type": "code",
   "execution_count": 12,
   "metadata": {
    "scrolled": true
   },
   "outputs": [
    {
     "data": {
      "text/plain": [
       "origin\n",
       "0    8241\n",
       "1    4117\n",
       "2    1979\n",
       "3    2499\n",
       "4    1819\n",
       "Name: count, dtype: int64"
      ]
     },
     "execution_count": 12,
     "metadata": {},
     "output_type": "execute_result"
    }
   ],
   "source": [
    "trip_production = inter_districts_trips.groupby('origin').sum()['count']\n",
    "trip_production.head()"
   ]
  },
  {
   "cell_type": "code",
   "execution_count": 13,
   "metadata": {},
   "outputs": [],
   "source": [
    "# CHECK\n",
    "assert(trip_production.sum() < len(viaje))    # no more than the total number of trips\n",
    "assert(len(trip_production) == 194)           # number of districts"
   ]
  },
  {
   "cell_type": "code",
   "execution_count": 14,
   "metadata": {},
   "outputs": [],
   "source": [
    "np.savetxt('../data/trip_production.txt', trip_production)"
   ]
  },
  {
   "cell_type": "markdown",
   "metadata": {},
   "source": [
    "### Population"
   ]
  },
  {
   "cell_type": "code",
   "execution_count": 15,
   "metadata": {},
   "outputs": [],
   "source": [
    "vivienda = pd.read_csv('../data/eod_2017_csv/tvivienda_eod2017/conjunto_de_datos/tvivienda.csv')"
   ]
  },
  {
   "cell_type": "code",
   "execution_count": 16,
   "metadata": {},
   "outputs": [
    {
     "data": {
      "text/html": [
       "<div>\n",
       "<style scoped>\n",
       "    .dataframe tbody tr th:only-of-type {\n",
       "        vertical-align: middle;\n",
       "    }\n",
       "\n",
       "    .dataframe tbody tr th {\n",
       "        vertical-align: top;\n",
       "    }\n",
       "\n",
       "    .dataframe thead th {\n",
       "        text-align: right;\n",
       "    }\n",
       "</style>\n",
       "<table border=\"1\" class=\"dataframe\">\n",
       "  <thead>\n",
       "    <tr style=\"text-align: right;\">\n",
       "      <th></th>\n",
       "      <th>distrito</th>\n",
       "      <th>pop</th>\n",
       "    </tr>\n",
       "  </thead>\n",
       "  <tbody>\n",
       "    <tr>\n",
       "      <th>0</th>\n",
       "      <td>1</td>\n",
       "      <td>75988</td>\n",
       "    </tr>\n",
       "    <tr>\n",
       "      <th>1</th>\n",
       "      <td>2</td>\n",
       "      <td>128035</td>\n",
       "    </tr>\n",
       "    <tr>\n",
       "      <th>2</th>\n",
       "      <td>3</td>\n",
       "      <td>134621</td>\n",
       "    </tr>\n",
       "    <tr>\n",
       "      <th>3</th>\n",
       "      <td>4</td>\n",
       "      <td>108158</td>\n",
       "    </tr>\n",
       "    <tr>\n",
       "      <th>4</th>\n",
       "      <td>5</td>\n",
       "      <td>124864</td>\n",
       "    </tr>\n",
       "  </tbody>\n",
       "</table>\n",
       "</div>"
      ],
      "text/plain": [
       "   distrito     pop\n",
       "0         1   75988\n",
       "1         2  128035\n",
       "2         3  134621\n",
       "3         4  108158\n",
       "4         5  124864"
      ]
     },
     "execution_count": 16,
     "metadata": {},
     "output_type": "execute_result"
    }
   ],
   "source": [
    "vivienda['pop'] = vivienda['p1_1'] * vivienda['factor']\n",
    "vivienda_pop = vivienda[['distrito', 'pop']]\n",
    "vivienda_pop = vivienda_pop.append({'distrito': 34, 'pop':0}, ignore_index=True)\n",
    "vivienda_pop_district = vivienda_pop.groupby(by='distrito').sum().reset_index()\n",
    "vivienda_pop_district.head()"
   ]
  },
  {
   "cell_type": "code",
   "execution_count": 17,
   "metadata": {},
   "outputs": [],
   "source": [
    "population = vivienda_pop_district['pop'].values"
   ]
  },
  {
   "cell_type": "code",
   "execution_count": 18,
   "metadata": {},
   "outputs": [],
   "source": [
    "# CHECK\n",
    "assert(population.sum() > 20000000)          # total population in MZVM\n",
    "assert(len(vivienda_pop_district) == 194)    # number of districts"
   ]
  },
  {
   "cell_type": "code",
   "execution_count": 19,
   "metadata": {},
   "outputs": [],
   "source": [
    "# save population per district ordered by districts\n",
    "np.savetxt('../data/pop.txt', population)"
   ]
  },
  {
   "cell_type": "markdown",
   "metadata": {},
   "source": [
    "### Scaling factor  $\\gamma$"
   ]
  },
  {
   "cell_type": "code",
   "execution_count": 20,
   "metadata": {},
   "outputs": [
    {
     "data": {
      "text/plain": [
       "0.01370034322793789"
      ]
     },
     "execution_count": 20,
     "metadata": {},
     "output_type": "execute_result"
    }
   ],
   "source": [
    "gamma = trip_production.sum() / population.sum()\n",
    "gamma"
   ]
  },
  {
   "cell_type": "markdown",
   "metadata": {},
   "source": [
    "### POIs"
   ]
  },
  {
   "cell_type": "code",
   "execution_count": 21,
   "metadata": {},
   "outputs": [
    {
     "data": {
      "text/plain": [
       "0    20812\n",
       "1    15912\n",
       "2     6108\n",
       "3     6056\n",
       "4     6348\n",
       "Name: dto_poi, dtype: int64"
      ]
     },
     "execution_count": 21,
     "metadata": {},
     "output_type": "execute_result"
    }
   ],
   "source": [
    "poi = pd.read_csv('../data/district_poi.csv')\n",
    "poi = poi[['Distrito', 'dto_poi']]\n",
    "poi['dto_poi'] = poi['dto_poi'].astype(int)\n",
    "poi = poi['dto_poi']\n",
    "poi.head()"
   ]
  },
  {
   "cell_type": "code",
   "execution_count": 22,
   "metadata": {},
   "outputs": [],
   "source": [
    "# save POI per district ordered by districts\n",
    "np.savetxt('../data/poi.txt', poi)"
   ]
  },
  {
   "cell_type": "markdown",
   "metadata": {},
   "source": [
    "---"
   ]
  },
  {
   "cell_type": "markdown",
   "metadata": {},
   "source": [
    "# Correlations"
   ]
  },
  {
   "cell_type": "code",
   "execution_count": 23,
   "metadata": {},
   "outputs": [],
   "source": [
    "from sklearn.linear_model import LinearRegression"
   ]
  },
  {
   "cell_type": "code",
   "execution_count": 24,
   "metadata": {},
   "outputs": [
    {
     "name": "stdout",
     "output_type": "stream",
     "text": [
      "R-squared = 0.0213\n"
     ]
    },
    {
     "data": {
      "image/png": "[encoded data removed]",
      "text/plain": [
       "<Figure size 576x432 with 1 Axes>"
      ]
     },
     "metadata": {
      "needs_background": "light"
     },
     "output_type": "display_data"
    }
   ],
   "source": [
    "# Trip attraction vs Population\n",
    "\n",
    "model = LinearRegression()\n",
    "trip_production_from_population = np.array(population).reshape(-1, 1) * gamma\n",
    "model.fit(trip_production_from_population, trip_attraction)\n",
    "r2 = model.score(trip_production_from_population, trip_attraction)\n",
    "\n",
    "plt.figure(figsize=(8,6))\n",
    "plt.scatter(trip_production_from_population, trip_attraction)\n",
    "plt.plot(trip_production_from_population, model.predict(trip_production_from_population), c='r')\n",
    "plt.xlabel('Population', fontsize=16)\n",
    "plt.ylabel('Trip Attraction', fontsize=16)\n",
    "plt.title('Trip Attraction vs Population', fontsize=18)\n",
    "\n",
    "print(\"R-squared = {:.4f}\".format(r2))"
   ]
  },
  {
   "cell_type": "code",
   "execution_count": 25,
   "metadata": {},
   "outputs": [
    {
     "name": "stdout",
     "output_type": "stream",
     "text": [
      "R-squared = 0.0214\n"
     ]
    },
    {
     "data": {
      "image/png": "[encoded data removed]",
      "text/plain": [
       "<Figure size 576x432 with 1 Axes>"
      ]
     },
     "metadata": {
      "needs_background": "light"
     },
     "output_type": "display_data"
    }
   ],
   "source": [
    "# Trip Production vs Population\n",
    "\n",
    "trip_attraction_from_population = np.array(population).reshape(-1, 1) * gamma\n",
    "\n",
    "model = LinearRegression()\n",
    "model.fit(trip_attraction_from_population, trip_production)\n",
    "r2 = model.score(trip_attraction_from_population, trip_production)\n",
    "\n",
    "plt.figure(figsize=(8,6))\n",
    "plt.scatter(trip_attraction_from_population, trip_production)\n",
    "plt.plot(trip_attraction_from_population, model.predict(trip_attraction_from_population), c='r')\n",
    "plt.xlabel('Population', fontsize=16)\n",
    "plt.ylabel('Trip Production', fontsize=16)\n",
    "plt.title('Trip Production vs Population', fontsize=18)\n",
    "\n",
    "print(\"R-squared = {:.4f}\".format(r2))"
   ]
  },
  {
   "cell_type": "code",
   "execution_count": 26,
   "metadata": {},
   "outputs": [
    {
     "name": "stdout",
     "output_type": "stream",
     "text": [
      "R-squared = 0.7285\n"
     ]
    },
    {
     "data": {
      "image/png": "[encoded data removed]",
      "text/plain": [
       "<Figure size 576x432 with 1 Axes>"
      ]
     },
     "metadata": {
      "needs_background": "light"
     },
     "output_type": "display_data"
    }
   ],
   "source": [
    "# POI vs Trip Attraction\n",
    "\n",
    "model = LinearRegression()\n",
    "model.fit(np.array(trip_attraction).reshape(-1, 1), poi)\n",
    "r2 = model.score(np.array(trip_attraction).reshape(-1, 1), poi)\n",
    "\n",
    "plt.figure(figsize=(8,6))\n",
    "plt.scatter(trip_attraction, poi)\n",
    "plt.plot(trip_attraction, model.predict(np.array(trip_attraction).reshape(-1, 1)), c='r')\n",
    "plt.xlabel('Trip Attraction', fontsize=16)\n",
    "plt.ylabel('POI', fontsize=16)\n",
    "plt.title('POI vs Trip Attraction', fontsize=18)\n",
    "\n",
    "print(\"R-squared = {:.4f}\".format(r2))"
   ]
  }
 ],
 "metadata": {
  "kernelspec": {
   "display_name": "Python 3",
   "language": "python",
   "name": "python3"
  },
  "language_info": {
   "codemirror_mode": {
    "name": "ipython",
    "version": 3
   },
   "file_extension": ".py",
   "mimetype": "text/x-python",
   "name": "python",
   "nbconvert_exporter": "python",
   "pygments_lexer": "ipython3",
   "version": "3.7.1"
  }
 },
 "nbformat": 4,
 "nbformat_minor": 2
}
