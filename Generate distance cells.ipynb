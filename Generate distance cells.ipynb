{
 "cells": [
  {
   "cell_type": "markdown",
   "metadata": {},
   "source": [
    "# Distance Matrix\n",
    "This code takes as inputs a collection of shape files of the different districts of Greater Mexico City and creates the diatance matrix in which each row and each column correspond to a district and each entry correspond to the distance between the centroid of the two regions."
   ]
  },
  {
   "cell_type": "code",
   "execution_count": 1,
   "metadata": {},
   "outputs": [],
   "source": [
    "import numpy as np\n",
    "import pandas as pd\n",
    "import matplotlib.pyplot as plt\n",
    "%matplotlib inline\n",
    "import geopandas as gpd\n",
    "import geopy.distance"
   ]
  },
  {
   "cell_type": "markdown",
   "metadata": {},
   "source": [
    "### Preprocessing"
   ]
  },
  {
   "cell_type": "code",
   "execution_count": 2,
   "metadata": {
    "scrolled": true
   },
   "outputs": [
    {
     "data": {
      "text/html": [
       "<div>\n",
       "<style scoped>\n",
       "    .dataframe tbody tr th:only-of-type {\n",
       "        vertical-align: middle;\n",
       "    }\n",
       "\n",
       "    .dataframe tbody tr th {\n",
       "        vertical-align: top;\n",
       "    }\n",
       "\n",
       "    .dataframe thead th {\n",
       "        text-align: right;\n",
       "    }\n",
       "</style>\n",
       "<table border=\"1\" class=\"dataframe\">\n",
       "  <thead>\n",
       "    <tr style=\"text-align: right;\">\n",
       "      <th></th>\n",
       "      <th>Distrito</th>\n",
       "      <th>Descripcio</th>\n",
       "      <th>geometry</th>\n",
       "      <th>centroids</th>\n",
       "      <th>area</th>\n",
       "      <th>l_caract</th>\n",
       "    </tr>\n",
       "  </thead>\n",
       "  <tbody>\n",
       "    <tr>\n",
       "      <th>0</th>\n",
       "      <td>001</td>\n",
       "      <td>Centro HistÃ³rico</td>\n",
       "      <td>POLYGON ((-99.13615639445072 19.44077855087982...</td>\n",
       "      <td>(-99.13739953601235, 19.433368365353914)</td>\n",
       "      <td>5.572718</td>\n",
       "      <td>2.360660</td>\n",
       "    </tr>\n",
       "    <tr>\n",
       "      <th>1</th>\n",
       "      <td>002</td>\n",
       "      <td>Buenavista-Reforma</td>\n",
       "      <td>POLYGON ((-99.1428980497852 19.46364494054671,...</td>\n",
       "      <td>(-99.15831812207979, 19.44277770368488)</td>\n",
       "      <td>9.149588</td>\n",
       "      <td>3.024829</td>\n",
       "    </tr>\n",
       "    <tr>\n",
       "      <th>2</th>\n",
       "      <td>003</td>\n",
       "      <td>Tlatelolco</td>\n",
       "      <td>POLYGON ((-99.13141865172925 19.46378321641288...</td>\n",
       "      <td>(-99.13524802237589, 19.452623298012657)</td>\n",
       "      <td>5.187414</td>\n",
       "      <td>2.277590</td>\n",
       "    </tr>\n",
       "    <tr>\n",
       "      <th>3</th>\n",
       "      <td>004</td>\n",
       "      <td>Morelos</td>\n",
       "      <td>POLYGON ((-99.10946106140032 19.45291794602026...</td>\n",
       "      <td>(-99.11631075981163, 19.436332893340886)</td>\n",
       "      <td>6.276365</td>\n",
       "      <td>2.505267</td>\n",
       "    </tr>\n",
       "    <tr>\n",
       "      <th>4</th>\n",
       "      <td>005</td>\n",
       "      <td>Moctezuma, Terminal de Autobuses de Oriente (T...</td>\n",
       "      <td>POLYGON ((-99.10055671090755 19.44982753391222...</td>\n",
       "      <td>(-99.10059106098882, 19.437499761059755)</td>\n",
       "      <td>7.688278</td>\n",
       "      <td>2.772774</td>\n",
       "    </tr>\n",
       "  </tbody>\n",
       "</table>\n",
       "</div>"
      ],
      "text/plain": [
       "  Distrito                                         Descripcio  \\\n",
       "0      001                                  Centro HistÃ³rico   \n",
       "1      002                                 Buenavista-Reforma   \n",
       "2      003                                         Tlatelolco   \n",
       "3      004                                            Morelos   \n",
       "4      005  Moctezuma, Terminal de Autobuses de Oriente (T...   \n",
       "\n",
       "                                            geometry  \\\n",
       "0  POLYGON ((-99.13615639445072 19.44077855087982...   \n",
       "1  POLYGON ((-99.1428980497852 19.46364494054671,...   \n",
       "2  POLYGON ((-99.13141865172925 19.46378321641288...   \n",
       "3  POLYGON ((-99.10946106140032 19.45291794602026...   \n",
       "4  POLYGON ((-99.10055671090755 19.44982753391222...   \n",
       "\n",
       "                                  centroids      area  l_caract  \n",
       "0  (-99.13739953601235, 19.433368365353914)  5.572718  2.360660  \n",
       "1   (-99.15831812207979, 19.44277770368488)  9.149588  3.024829  \n",
       "2  (-99.13524802237589, 19.452623298012657)  5.187414  2.277590  \n",
       "3  (-99.11631075981163, 19.436332893340886)  6.276365  2.505267  \n",
       "4  (-99.10059106098882, 19.437499761059755)  7.688278  2.772774  "
      ]
     },
     "execution_count": 2,
     "metadata": {},
     "output_type": "execute_result"
    }
   ],
   "source": [
    "# Read shapefile with the different districts\n",
    "gdf = gpd.GeoDataFrame.from_file('../data/shapes/DistritosEODHogaresZMVM2017.shp')\n",
    "\n",
    "# Create new useful variables\n",
    "gdf['centroids'] = gdf['geometry'].apply(lambda x: tuple(x.centroid.coords)[0])\n",
    "gdf['area'] = gdf['geometry'].apply(lambda x: x.area / 1000000)\n",
    "gdf['l_caract'] = np.sqrt(gdf['area'])\n",
    "\n",
    "# Convert projected coordinates into longitude and latitude\n",
    "gdf.crs = {'init' :'epsg:32614'}\n",
    "gdf.to_crs(epsg=4326, inplace=True)\n",
    "gdf['centroids'] = gdf['geometry'].apply(lambda x: tuple(x.centroid.coords)[0])\n",
    "\n",
    "gdf.head()"
   ]
  },
  {
   "cell_type": "markdown",
   "metadata": {},
   "source": [
    "### Matrix Generation"
   ]
  },
  {
   "cell_type": "code",
   "execution_count": 4,
   "metadata": {},
   "outputs": [],
   "source": [
    "n = len(gdf)\n",
    "dist_cell = np.ones((n, n))\n",
    "\n",
    "for i in range(n):\n",
    "    for j in range(i,n):\n",
    "        dist_cell[i,j] = geopy.distance.geodesic(tuple(reversed(gdf['centroids'][i])), tuple(reversed(gdf['centroids'][j]))).km\n",
    "        dist_cell[j,i] = dist_cell[i,j]\n"
   ]
  },
  {
   "cell_type": "code",
   "execution_count": 5,
   "metadata": {},
   "outputs": [],
   "source": [
    "np.savetxt('../data/dist_cell.txt', dist_cell)"
   ]
  },
  {
   "cell_type": "markdown",
   "metadata": {},
   "source": [
    "### Characteristic Length"
   ]
  },
  {
   "cell_type": "markdown",
   "metadata": {},
   "source": [
    "The characteristic length of the system is needed to calibrate the extended radiation model."
   ]
  },
  {
   "cell_type": "code",
   "execution_count": 3,
   "metadata": {},
   "outputs": [
    {
     "data": {
      "text/plain": [
       "3.1295916904198156"
      ]
     },
     "execution_count": 3,
     "metadata": {},
     "output_type": "execute_result"
    }
   ],
   "source": [
    "mean_l_caract = gdf['l_caract'].median()\n",
    "mean_l_caract"
   ]
  }
 ],
 "metadata": {
  "kernelspec": {
   "display_name": "Python (CE263N)",
   "language": "python",
   "name": "ce263n"
  },
  "language_info": {
   "codemirror_mode": {
    "name": "ipython",
    "version": 3
   },
   "file_extension": ".py",
   "mimetype": "text/x-python",
   "name": "python",
   "nbconvert_exporter": "python",
   "pygments_lexer": "ipython3",
   "version": "3.7.1"
  }
 },
 "nbformat": 4,
 "nbformat_minor": 2
}
